{
 "cells": [
  {
   "cell_type": "markdown",
   "metadata": {},
   "source": [
    "### Mark down Basics\n",
    " * **Bold**\n",
    " * *italic*\n",
    " * ***ib***\n",
    " * Normal text\n",
    "   * sublist1\n",
    "  \n",
    "1.Ordered list 1\n",
    " \n",
    "2.Ordered list 2\n",
    "\n",
    "\n",
    "[Jupyter Logo](jupyterlogo.png)\n",
    "<img src=\"jupyterlogo.png\" style=\"float:left\">"
   ]
  },
  {
   "cell_type": "code",
   "execution_count": null,
   "metadata": {},
   "outputs": [],
   "source": []
  }
 ],
 "metadata": {
  "kernelspec": {
   "display_name": "Python 3",
   "language": "python",
   "name": "python3"
  },
  "language_info": {
   "codemirror_mode": {
    "name": "ipython",
    "version": 3
   },
   "file_extension": ".py",
   "mimetype": "text/x-python",
   "name": "python",
   "nbconvert_exporter": "python",
   "pygments_lexer": "ipython3",
   "version": "3.7.3"
  }
 },
 "nbformat": 4,
 "nbformat_minor": 2
}
